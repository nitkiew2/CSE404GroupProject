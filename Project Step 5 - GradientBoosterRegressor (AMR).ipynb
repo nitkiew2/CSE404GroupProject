{
 "cells": [
  {
   "cell_type": "code",
   "execution_count": 2,
   "id": "3728c0d5",
   "metadata": {},
   "outputs": [],
   "source": [
    "import pandas as pd\n",
    "import numpy as np\n",
    "import seaborn as sb\n",
    "import matplotlib.pyplot as plt\n",
    "from sklearn.metrics import r2_score, mean_squared_error, mean_absolute_error, median_absolute_error, mean_absolute_percentage_error\n",
    "from sklearn.model_selection import train_test_split\n",
    "from tabulate import tabulate\n"
   ]
  },
  {
   "cell_type": "code",
   "execution_count": 3,
   "id": "34f5fdf0",
   "metadata": {},
   "outputs": [
    {
     "data": {
      "text/html": [
       "<div>\n",
       "<style scoped>\n",
       "    .dataframe tbody tr th:only-of-type {\n",
       "        vertical-align: middle;\n",
       "    }\n",
       "\n",
       "    .dataframe tbody tr th {\n",
       "        vertical-align: top;\n",
       "    }\n",
       "\n",
       "    .dataframe thead th {\n",
       "        text-align: right;\n",
       "    }\n",
       "</style>\n",
       "<table border=\"1\" class=\"dataframe\">\n",
       "  <thead>\n",
       "    <tr style=\"text-align: right;\">\n",
       "      <th></th>\n",
       "      <th>age</th>\n",
       "      <th>female</th>\n",
       "      <th>male</th>\n",
       "      <th>bmi</th>\n",
       "      <th>children</th>\n",
       "      <th>smoker</th>\n",
       "      <th>region_northeast</th>\n",
       "      <th>region_northwest</th>\n",
       "      <th>region_southeast</th>\n",
       "      <th>region_southwest</th>\n",
       "      <th>charges</th>\n",
       "    </tr>\n",
       "  </thead>\n",
       "  <tbody>\n",
       "    <tr>\n",
       "      <th>0</th>\n",
       "      <td>19</td>\n",
       "      <td>1</td>\n",
       "      <td>0</td>\n",
       "      <td>27.900</td>\n",
       "      <td>0</td>\n",
       "      <td>1</td>\n",
       "      <td>0</td>\n",
       "      <td>0</td>\n",
       "      <td>0</td>\n",
       "      <td>1</td>\n",
       "      <td>16884.92400</td>\n",
       "    </tr>\n",
       "    <tr>\n",
       "      <th>1</th>\n",
       "      <td>18</td>\n",
       "      <td>0</td>\n",
       "      <td>1</td>\n",
       "      <td>33.770</td>\n",
       "      <td>1</td>\n",
       "      <td>0</td>\n",
       "      <td>0</td>\n",
       "      <td>0</td>\n",
       "      <td>1</td>\n",
       "      <td>0</td>\n",
       "      <td>1725.55230</td>\n",
       "    </tr>\n",
       "    <tr>\n",
       "      <th>2</th>\n",
       "      <td>28</td>\n",
       "      <td>0</td>\n",
       "      <td>1</td>\n",
       "      <td>33.000</td>\n",
       "      <td>3</td>\n",
       "      <td>0</td>\n",
       "      <td>0</td>\n",
       "      <td>0</td>\n",
       "      <td>1</td>\n",
       "      <td>0</td>\n",
       "      <td>4449.46200</td>\n",
       "    </tr>\n",
       "    <tr>\n",
       "      <th>3</th>\n",
       "      <td>33</td>\n",
       "      <td>0</td>\n",
       "      <td>1</td>\n",
       "      <td>22.705</td>\n",
       "      <td>0</td>\n",
       "      <td>0</td>\n",
       "      <td>0</td>\n",
       "      <td>1</td>\n",
       "      <td>0</td>\n",
       "      <td>0</td>\n",
       "      <td>21984.47061</td>\n",
       "    </tr>\n",
       "    <tr>\n",
       "      <th>4</th>\n",
       "      <td>32</td>\n",
       "      <td>0</td>\n",
       "      <td>1</td>\n",
       "      <td>28.880</td>\n",
       "      <td>0</td>\n",
       "      <td>0</td>\n",
       "      <td>0</td>\n",
       "      <td>1</td>\n",
       "      <td>0</td>\n",
       "      <td>0</td>\n",
       "      <td>3866.85520</td>\n",
       "    </tr>\n",
       "  </tbody>\n",
       "</table>\n",
       "</div>"
      ],
      "text/plain": [
       "   age  female  male     bmi  children  smoker  region_northeast  \\\n",
       "0   19       1     0  27.900         0       1                 0   \n",
       "1   18       0     1  33.770         1       0                 0   \n",
       "2   28       0     1  33.000         3       0                 0   \n",
       "3   33       0     1  22.705         0       0                 0   \n",
       "4   32       0     1  28.880         0       0                 0   \n",
       "\n",
       "   region_northwest  region_southeast  region_southwest      charges  \n",
       "0                 0                 0                 1  16884.92400  \n",
       "1                 0                 1                 0   1725.55230  \n",
       "2                 0                 1                 0   4449.46200  \n",
       "3                 1                 0                 0  21984.47061  \n",
       "4                 1                 0                 0   3866.85520  "
      ]
     },
     "execution_count": 3,
     "metadata": {},
     "output_type": "execute_result"
    }
   ],
   "source": [
    "## starter code from jason\n",
    "dat = pd.read_csv('insurance.csv')\n",
    "dat['smoker'] =dat.smoker.map({'yes':1, 'no':0})\n",
    "\n",
    "one_hot_region = pd.get_dummies(dat.region, prefix='region')\n",
    "dat['region_northeast']= one_hot_region['region_northeast']\n",
    "dat['region_northwest']= one_hot_region['region_northwest']\n",
    "dat['region_southeast']= one_hot_region['region_southeast']\n",
    "dat['region_southwest']= one_hot_region['region_southwest']\n",
    "one_hot_sex = pd.get_dummies(dat.sex, prefix='sex')\n",
    "dat['female']= one_hot_sex['sex_female']\n",
    "dat['male']= one_hot_sex['sex_male']\n",
    "\n",
    "dat_dropped = dat.drop(columns = ['sex', 'region'])\n",
    "\n",
    "cols = dat_dropped.columns.tolist()\n",
    "cols = [cols[0]] + cols[-2:] + cols[1:4] + cols[5:9] + [cols[4]]\n",
    "dat_dropped = dat_dropped[cols]\n",
    "#dat_dropped.head()\n",
    "\n",
    "dat_dropped.to_csv('one_hot_insurance.csv')\n",
    "ohdat = pd.read_csv('one_hot_insurance.csv')\n",
    "ohdat = ohdat.iloc[:,1:]\n",
    "ohdat.head()"
   ]
  },
  {
   "cell_type": "markdown",
   "id": "2cc11f50",
   "metadata": {},
   "source": [
    "### Creating a Function To Run Regression Models"
   ]
  },
  {
   "cell_type": "markdown",
   "id": "4858eff2",
   "metadata": {},
   "source": [
    "In the cell below, I created a function that can run a handful of Regression Models, such as Decison Tree, Lasso, Random Forest, and more. This made it easier to analyze the resutls, rather than ahving to copy and past the code to run differnet models. Now we can just pass an import below and get our results!"
   ]
  },
  {
   "cell_type": "code",
   "execution_count": 4,
   "id": "4a8d6cb3",
   "metadata": {},
   "outputs": [],
   "source": [
    "from sklearn.linear_model import LinearRegression\n",
    "from sklearn.ensemble import RandomForestRegressor\n",
    "from sklearn.linear_model import Lasso\n",
    "from sklearn.ensemble import GradientBoostingRegressor\n",
    "from sklearn.linear_model import Ridge\n",
    "from sklearn.tree import DecisionTreeRegressor, plot_tree"
   ]
  },
  {
   "cell_type": "code",
   "execution_count": 14,
   "id": "816858bc",
   "metadata": {},
   "outputs": [
    {
     "name": "stdout",
     "output_type": "stream",
     "text": [
      "Features: smoker\n",
      "Target: charges\n",
      "~ R2: 0.616255352899973\n",
      "~ MSE: 51599902.20038582\n",
      "~ Mean Absolute Error: 5481.905331873467\n",
      "~ Median Absolute Error: 4179.271903328814\n",
      "\n",
      "Features: region_northeast, region_northwest, region_southeast, region_southwest\n",
      "Target: charges\n",
      "~ R2: -0.01639925357790828\n",
      "~ MSE: 136669273.37619543\n",
      "~ Mean Absolute Error: 8827.863570779098\n",
      "~ Median Absolute Error: 7135.336139358467\n",
      "\n",
      "Features: smoker, age, bmi\n",
      "Target: charges\n",
      "~ R2: 0.8378676222694041\n",
      "~ MSE: 21800994.222687025\n",
      "~ Mean Absolute Error: 2574.9752550184016\n",
      "~ Median Absolute Error: 1339.6404603461524\n",
      "\n",
      "Features: children\n",
      "Target: charges\n",
      "~ R2: 0.010833342999202134\n",
      "~ MSE: 133007465.11213073\n",
      "~ Mean Absolute Error: 8736.890519694005\n",
      "~ Median Absolute Error: 7470.398260251305\n",
      "\n",
      "Features: male, female\n",
      "Target: charges\n",
      "~ R2: -0.0008943137797701173\n",
      "~ MSE: 134584414.64721292\n",
      "~ Mean Absolute Error: 8788.292546854385\n",
      "~ Median Absolute Error: 7142.732303840667\n",
      "\n"
     ]
    }
   ],
   "source": [
    "def insurance_reg(factor, target, data):\n",
    "    x_train, X_test, y_train, y_test = train_test_split(data[factor], data[target], test_size = 0.25, random_state = 10)\n",
    "    mod = GradientBoostingRegressor(random_state=25) #try the regression models imported above\n",
    "    mod.fit(x_train, y_train)\n",
    "    y_pred = mod.predict(X_test)\n",
    "    residuals = y_test - y_pred\n",
    "    \n",
    "    R2 = r2_score(y_test, y_pred)\n",
    "    MSE = mean_squared_error(y_test, y_pred)\n",
    "    MAE = mean_absolute_error(y_test, y_pred)\n",
    "    MedAE = median_absolute_error(y_test, y_pred)\n",
    "    \n",
    "    return R2, MSE, MAE, MedAE\n",
    "\n",
    "factor_combos = [\n",
    "    (['smoker'], 'charges'),\n",
    "     (['region_northeast', 'region_northwest', 'region_southeast', 'region_southwest'], 'charges'),\n",
    "    (['smoker', 'age', 'bmi'], 'charges'),\n",
    "    (['children'], 'charges'),\n",
    "    (['male', 'female'], 'charges'),\n",
    "   ] #can add as many combinations to test against charges\n",
    "\n",
    "for i in factor_combos:\n",
    "    factor, target = i\n",
    "    R2,MSE,MAE,MedAE = insurance_reg(factor, target, dat_dropped)\n",
    "    \n",
    "    print(f\"Features: {', '.join(factor)}\")\n",
    "    print(f\"Target: {target}\")\n",
    "    print('~ R2:', R2)\n",
    "    print('~ MSE:', MSE)\n",
    "    print('~ Mean Absolute Error:', MAE)\n",
    "    print('~ Median Absolute Error:', MedAE)\n",
    "    print(\"\")"
   ]
  },
  {
   "cell_type": "markdown",
   "id": "5756a16c",
   "metadata": {},
   "source": [
    "### Function Results"
   ]
  },
  {
   "cell_type": "markdown",
   "id": "06e0697e",
   "metadata": {},
   "source": [
    "With this function, we compare multiple factor combinations using the GradientBoostingRegressor Model in order to predict which factors would be better to use when predicting insurance charges. Here are some important results to take note of:\n",
    "\n",
    "- **Smoker:**\n",
    "    - The smoker feature alone yields a moderately good fit, with an R-squared value of 0.6163. However, its errors are higher compared to the combination of smoker, age, and BMI features, telling us that we can better predict insurance charges when additionally taking age and BMI factors into consideration as to the Smoker factor alone.\n",
    "    \n",
    "\n",
    "- **Regional Features (Combined)**\n",
    "    - These features alone do not have a good fit when predicting insurance values, as the R-squared value is -0.0164, showing us that the model does not correlate at all with the charges. The errors (MSE, MAE, and MedAE) are also quite high, which confirms the poor model performance.\n",
    "    \n",
    "    \n",
    "- **Smoker + Age + BMI:**\n",
    "    - A combination of smoker, age, and BMI features results in the best model performance among the tested combinations. The R-squared value is 0.838 and The errors (MSE, MAE, and MedAE) are much lower compared to other combinations, further supporting that this set of features provides the one of the better predictive performances.\n",
    "    \n",
    "   \n",
    "- **Number Of Children:**\n",
    "    - The number of children results in a weak predictive model, as the R-squared value is nearly 0 and has pretty high error values.\n",
    "    \n",
    "    \n",
    "- **Male + Female:**\n",
    "    - Sex also would not provide meaningful predictions, as the R-squared value is negative, meaning that the model doesn't explain the variance in charges and results in high error values."
   ]
  },
  {
   "cell_type": "markdown",
   "id": "11ee8250",
   "metadata": {},
   "source": [
    "### Comparing Regions "
   ]
  },
  {
   "cell_type": "code",
   "execution_count": 6,
   "id": "f3cd1cba",
   "metadata": {},
   "outputs": [
    {
     "name": "stdout",
     "output_type": "stream",
     "text": [
      "\n",
      "Features: region_northeast\n",
      "Target: charges\n",
      "~ R2: -0.0017306609663092498\n",
      "~ MSE: 134696873.37036937\n",
      "~ Mean Absolute Error: 8758.057163229614\n",
      "~ Median Absolute Error: 7168.278627412799\n",
      "\n",
      "Features: region_northwest\n",
      "Target: charges\n",
      "~ R2: 0.003229281594591016\n",
      "~ MSE: 134029938.85285601\n",
      "~ Mean Absolute Error: 8731.114691823226\n",
      "~ Median Absolute Error: 7094.009510888649\n",
      "\n",
      "Features: region_southeast\n",
      "Target: charges\n",
      "~ R2: -0.01497176567980052\n",
      "~ MSE: 136477327.41293252\n",
      "~ Mean Absolute Error: 8833.713911041226\n",
      "~ Median Absolute Error: 7191.793924351599\n",
      "\n",
      "Features: region_southwest\n",
      "Target: charges\n",
      "~ R2: -0.010270923274300126\n",
      "~ MSE: 135845232.58055815\n",
      "~ Mean Absolute Error: 8788.481733678662\n",
      "~ Median Absolute Error: 7135.336139358469\n",
      "\n"
     ]
    }
   ],
   "source": [
    "region_combos = [\n",
    "     (['region_northeast'], 'charges'),\n",
    "     (['region_northwest'], 'charges'),\n",
    "     (['region_southeast'], 'charges'),\n",
    "     (['region_southwest'], 'charges')] #can add as many combinations to test against charges\n",
    "\n",
    "print()\n",
    "for i in region_combos:\n",
    "    factor, target = i\n",
    "    R2,MSE,MAE,MedAE = insurance_reg(factor, target, dat_dropped)\n",
    "    \n",
    "    print(f\"Features: {', '.join(factor)}\")\n",
    "    print(f\"Target: {target}\")\n",
    "    print('~ R2:', R2)\n",
    "    print('~ MSE:', MSE)\n",
    "    print('~ Mean Absolute Error:', MAE)\n",
    "    print('~ Median Absolute Error:', MedAE)\n",
    "    print(\"\")"
   ]
  },
  {
   "cell_type": "markdown",
   "id": "e73e2d13",
   "metadata": {},
   "source": [
    "- **Regional Features (Seperated):**\n",
    "    - These features alone do not have a good fit when predicting insurance values, as the R-squared for three out of the four regions have are negative, and the other one is nearly zero, showing us that the model does not correlate at all with the charges. The errors (MSE, MAE, and MedAE) are also quite high, which confirms the poor model performance.\n",
    "    "
   ]
  },
  {
   "cell_type": "markdown",
   "id": "ed3035b5",
   "metadata": {},
   "source": [
    "### A Few Plot Results"
   ]
  },
  {
   "cell_type": "markdown",
   "id": "e61b5778",
   "metadata": {},
   "source": [
    "Below,we have a few histogram plots to visualize the residuals and how well the prediction models above perform (from a graphical point of view) "
   ]
  },
  {
   "cell_type": "markdown",
   "id": "0b526388",
   "metadata": {},
   "source": [
    "#### Smoker Plot"
   ]
  },
  {
   "cell_type": "code",
   "execution_count": 11,
   "id": "8f2af5ec",
   "metadata": {},
   "outputs": [
    {
     "name": "stdout",
     "output_type": "stream",
     "text": [
      "   smoker      charges\n",
      "0       1  16884.92400\n",
      "1       0   1725.55230\n",
      "2       0   4449.46200\n",
      "3       0  21984.47061\n",
      "4       0   3866.85520\n"
     ]
    },
    {
     "data": {
      "text/plain": [
       "Text(0, 0.5, 'count')"
      ]
     },
     "execution_count": 11,
     "metadata": {},
     "output_type": "execute_result"
    },
    {
     "data": {
      "image/png": "[encoded data removed]",
      "text/plain": [
       "<Figure size 432x288 with 1 Axes>"
      ]
     },
     "metadata": {
      "needs_background": "light"
     },
     "output_type": "display_data"
    }
   ],
   "source": [
    "smoker = ohdat.iloc[:,[5,10]]\n",
    "x_sm_train, x_sm_test, y_sm_train, y_sm_test = train_test_split(smoker.iloc[:,:-1], smoker.iloc[:,-1], test_size = 0.25, random_state = 10)\n",
    "print(smoker.head())\n",
    "\n",
    "mod = GradientBoostingRegressor(random_state=0).fit(x_sm_train, y_sm_train)\n",
    "y_pred = mod.predict(x_sm_test)\n",
    "residuals = y_sm_test - y_pred\n",
    "\n",
    "sb.histplot(residuals, kde=True, color=\"purple\")\n",
    "curve = sb.histplot(kde=True)\n",
    "curve.lines[0].set_color(\"black\")\n",
    "plt.title(\"Smoker GBR (Histplot)\")\n",
    "plt.xlabel('Residuals')\n",
    "plt.ylabel('count')"
   ]
  },
  {
   "cell_type": "markdown",
   "id": "6635fe85",
   "metadata": {},
   "source": [
    "We see that the \"Smoker\" plot has a graph where the residuals are normally distributed around zero, giving us a good resutls. This suggests that the model is making decent predictions, however could be improved by adding other factors, like age and BMI."
   ]
  },
  {
   "cell_type": "markdown",
   "id": "ddf4f136",
   "metadata": {},
   "source": [
    "#### Smoker + Age + BMI Plot"
   ]
  },
  {
   "cell_type": "code",
   "execution_count": 10,
   "id": "94ce5342",
   "metadata": {},
   "outputs": [
    {
     "data": {
      "text/plain": [
       "Text(0, 0.5, 'count')"
      ]
     },
     "execution_count": 10,
     "metadata": {},
     "output_type": "execute_result"
    },
    {
     "data": {
      "image/png": "[encoded data removed]",
      "text/plain": [
       "<Figure size 432x288 with 1 Axes>"
      ]
     },
     "metadata": {
      "needs_background": "light"
     },
     "output_type": "display_data"
    }
   ],
   "source": [
    "age_bmi_sm = ohdat.iloc[:,[0,3,5,10]]\n",
    "x_a_b_sm_train, x_a_b_sm_test, y_a_b_sm_train, y_a_b_sm_test = train_test_split(age_bmi_sm.iloc[:,:-1], age_bmi_sm.iloc[:,-1], test_size = 0.25, random_state = 10)\n",
    "#print(age_bmi_sm.head())\n",
    "\n",
    "mod = GradientBoostingRegressor(random_state=0).fit(x_a_b_sm_train, y_a_b_sm_train)\n",
    "y_pred = mod.predict(x_a_b_sm_test)\n",
    "residuals2 = y_a_b_sm_test - y_pred\n",
    "\n",
    "sb.histplot(residuals2, kde=True, color=\"red\")\n",
    "curve2 = sb.histplot(kde=True)\n",
    "curve2.lines[0].set_color(\"black\")\n",
    "plt.title(\"Smoker + Age + BMI (GBR Histplot)\")\n",
    "plt.xlabel('Residuals')\n",
    "plt.ylabel('count')"
   ]
  },
  {
   "cell_type": "markdown",
   "id": "f884fdf3",
   "metadata": {},
   "source": [
    "We see that the \"Smoker + Age + BMI\" plot has a graph where the residuals are almost symmetric distribution with a peak near zero, suggesting that the model is making closely accurate predictions."
   ]
  },
  {
   "cell_type": "markdown",
   "id": "86182856",
   "metadata": {},
   "source": [
    "#### Regions Plot"
   ]
  },
  {
   "cell_type": "code",
   "execution_count": 12,
   "id": "4d5f8e1a",
   "metadata": {},
   "outputs": [
    {
     "data": {
      "text/plain": [
       "Text(0, 0.5, 'count')"
      ]
     },
     "execution_count": 12,
     "metadata": {},
     "output_type": "execute_result"
    },
    {
     "data": {
      "image/png": "[encoded data removed]",
      "text/plain": [
       "<Figure size 432x288 with 1 Axes>"
      ]
     },
     "metadata": {
      "needs_background": "light"
     },
     "output_type": "display_data"
    }
   ],
   "source": [
    "regions_combine = ohdat.iloc[:,[6,7,8,9,10]]\n",
    "x_region_train, x_region_test, y_region_train, y_region_test = train_test_split(regions_combine.iloc[:,:-1], regions_combine.iloc[:,-1], test_size = 0.25, random_state = 10)\n",
    "#regions_combine.head()\n",
    "mod = GradientBoostingRegressor(random_state=0).fit(x_region_train, y_region_train)\n",
    "y_pred = mod.predict(x_region_test)\n",
    "residuals3 = y_region_test - y_pred\n",
    "\n",
    "sb.histplot(residuals3, kde=True, color=\"green\")\n",
    "curve2 = sb.histplot(kde=True)\n",
    "curve2.lines[0].set_color(\"black\")\n",
    "plt.title(\"Regions (GBR Histplot)\")\n",
    "plt.xlabel('Residuals')\n",
    "plt.ylabel('count')\n"
   ]
  },
  {
   "cell_type": "markdown",
   "id": "202864dd",
   "metadata": {},
   "source": [
    "We see that the \"Regions\" plot has a graph where the residuals are uneven and not normally distributed around zero, as we calculed a low R-squared value for the model."
   ]
  }
 ],
 "metadata": {
  "kernelspec": {
   "display_name": "Python 3",
   "language": "python",
   "name": "python3"
  },
  "language_info": {
   "codemirror_mode": {
    "name": "ipython",
    "version": 3
   },
   "file_extension": ".py",
   "mimetype": "text/x-python",
   "name": "python",
   "nbconvert_exporter": "python",
   "pygments_lexer": "ipython3",
   "version": "3.8.8"
  }
 },
 "nbformat": 4,
 "nbformat_minor": 5
}
